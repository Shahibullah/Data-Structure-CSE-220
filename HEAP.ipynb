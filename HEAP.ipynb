{
  "nbformat": 4,
  "nbformat_minor": 0,
  "metadata": {
    "colab": {
      "provenance": []
    },
    "kernelspec": {
      "name": "python3",
      "display_name": "Python 3"
    },
    "language_info": {
      "name": "python"
    }
  },
  "cells": [
    {
      "cell_type": "markdown",
      "source": [],
      "metadata": {
        "id": "ntSRrMFow0bi"
      }
    },
    {
      "cell_type": "markdown",
      "source": [
        "# **Task-1**"
      ],
      "metadata": {
        "id": "2Q3RZ8qUwyzW"
      }
    },
    {
      "cell_type": "code",
      "source": [
        "import numpy as np\n",
        "\n",
        "class MinHeap:\n",
        "    def __init__(self, capacity):\n",
        "\n",
        "        self.__heap = np.zeros(capacity, dtype=int)\n",
        "        self.__size = 0\n",
        "\n",
        "    def insert(self, value):\n",
        "        if self.__size >= len(self.__heap):\n",
        "            # If heap is full, resize using numpy\n",
        "            self.__heap = np.resize(self.__heap, 2 * len(self.__heap))\n",
        "        self.__heap[self.__size] = value\n",
        "        self.__size += 1\n",
        "        self.__swim(self.__size - 1)\n",
        "\n",
        "    def extractMin(self):\n",
        "        if self.__size == 0:\n",
        "            return f\"Heap size is ZERO!\"\n",
        "        min_value = self.__heap[0]\n",
        "        self.__heap[0] = self.__heap[self.__size - 1]\n",
        "        self.__size -= 1\n",
        "        self.__sink(0)\n",
        "        return min_value\n",
        "\n",
        "    def __swim(self, index):\n",
        "        while index > 0:\n",
        "            parent = (index - 1) // 2\n",
        "            if self.__heap[index] < self.__heap[parent]:\n",
        "                self.__heap[index], self.__heap[parent] = self.__heap[parent], self.__heap[index]\n",
        "                index = parent\n",
        "            else:\n",
        "                break\n",
        "\n",
        "    def __sink(self, index):\n",
        "        while (2 * index + 1) < self.__size:\n",
        "            left = (2 * index + 1)\n",
        "            right = (2 * index + 2)\n",
        "            smallest = left\n",
        "            if right < self.__size and self.__heap[right] < self.__heap[left]:\n",
        "                smallest = right\n",
        "            if self.__heap[index] > self.__heap[smallest]:\n",
        "                self.__heap[index], self.__heap[smallest] = self.__heap[smallest], self.__heap[index]\n",
        "                index = smallest\n",
        "            else:\n",
        "                break\n",
        "\n",
        "    def sort(self):\n",
        "        original_size = self.__size\n",
        "        for i in range(self.__size - 1, 0, -1):\n",
        "            self.__heap[0], self.__heap[i] = self.__heap[i], self.__heap[0]\n",
        "            self.__size -= 1\n",
        "            self.__sink(0)\n",
        "        self.__size = original_size\n",
        "\n",
        "    def display(self):\n",
        "        return self.__heap[:self.__size]\n",
        "\n",
        "# Driver code\n",
        "capacity = 15\n",
        "heap = MinHeap(capacity)\n",
        "heap.insert(6)\n",
        "heap.insert(4)\n",
        "heap.insert(-2)\n",
        "heap.insert(5)\n",
        "heap.insert(2)\n",
        "heap.insert(8)\n",
        "heap.insert(17)\n",
        "print(\"Heap:\", heap.display())\n",
        "print(\"Extracted Min:\", heap.extractMin())\n",
        "heap.sort()\n",
        "print(\"Sorted array:\", heap.display())\n"
      ],
      "metadata": {
        "colab": {
          "base_uri": "https://localhost:8080/"
        },
        "id": "dPUKU9TEYMhn",
        "outputId": "d0fadcb5-74d9-4e8b-f971-5d4749772de6"
      },
      "execution_count": null,
      "outputs": [
        {
          "output_type": "stream",
          "name": "stdout",
          "text": [
            "Heap: [-2  2  4  6  5  8 17]\n",
            "Extracted Min: -2\n",
            "Sorted array: [17  8  6  5  4  2]\n"
          ]
        }
      ]
    },
    {
      "cell_type": "markdown",
      "source": [
        "# **Task-2**"
      ],
      "metadata": {
        "id": "AM21ITa4y53f"
      }
    },
    {
      "cell_type": "code",
      "source": [
        "import numpy as np\n",
        "\n",
        "class MaxHeap:\n",
        "    def __init__(self, capacity):\n",
        "\n",
        "        self.__array = np.full(capacity, None)\n",
        "        self.__size = 0\n",
        "\n",
        "    def insert(self, value):\n",
        "        if self.__size == len(self.__array):\n",
        "\n",
        "            self.__array = np.resize(self.__array, 2 * len(self.__array))\n",
        "        self.__array[self.__size] = value\n",
        "        self.__size += 1\n",
        "        self.__swim(self.__size - 1)\n",
        "\n",
        "    def extractMax(self):\n",
        "        if self.__size == 0:\n",
        "            return f\"Heap is empty.\"\n",
        "        max_val = self.__array[0]\n",
        "        self.__array[0] = self.__array[self.__size - 1]\n",
        "        self.__size -= 1\n",
        "        self.__sink(0)\n",
        "        return max_val\n",
        "\n",
        "    def __swim(self, index):\n",
        "        while index > 0:\n",
        "            parent = (index - 1) // 2\n",
        "            if self.__array[index] > self.__array[parent]:\n",
        "                self.__swap(index, parent)\n",
        "                index = parent\n",
        "            else:\n",
        "                break\n",
        "\n",
        "    def __sink(self, index):\n",
        "        while (2 * index + 1) < self.__size:\n",
        "            left = 2 * index + 1\n",
        "            right = 2 * index + 2\n",
        "            largest = left\n",
        "\n",
        "            if right < self.__size and self.__array[right] > self.__array[left]:\n",
        "                largest = right\n",
        "\n",
        "            if self.__array[index] < self.__array[largest]:\n",
        "                self.__swap(index, largest)\n",
        "                index = largest\n",
        "            else:\n",
        "                break\n",
        "\n",
        "    def __swap(self, i, j):\n",
        "        self.__array[i], self.__array[j] = self.__array[j], self.__array[i]\n",
        "\n",
        "    def sort(self):\n",
        "        original_size = self.__size\n",
        "        for i in range(self.__size - 1, 0, -1):\n",
        "            self.__swap(0, i)\n",
        "            self.__size -= 1\n",
        "            self.__sink(0)\n",
        "        self.__size = original_size\n",
        "\n",
        "    def display(self):\n",
        "        return self.__array[:self.__size]\n",
        "\n",
        "# Driver code\n",
        "max_heap = MaxHeap(10)\n",
        "max_heap.insert(5)\n",
        "max_heap.insert(10)\n",
        "max_heap.insert(3)\n",
        "max_heap.insert(18)\n",
        "max_heap.insert(120)\n",
        "max_heap.insert(93)\n",
        "max_heap.insert(66)\n",
        "max_heap.insert(55)\n",
        "\n",
        "print(\"Extracted max:\", max_heap.extractMax())\n",
        "print(\"Heap elements after extraction:\", max_heap.display())\n",
        "max_heap.sort()\n",
        "print(\"Sorted:\", max_heap.display())\n"
      ],
      "metadata": {
        "colab": {
          "base_uri": "https://localhost:8080/"
        },
        "id": "fNPYIEO-fGO8",
        "outputId": "0a2f7155-fb7a-422a-e0c0-7f5d6a9fd179"
      },
      "execution_count": null,
      "outputs": [
        {
          "output_type": "stream",
          "name": "stdout",
          "text": [
            "Extracted max: 120\n",
            "Heap elements after extraction: [93 55 66 18 10 3 5]\n",
            "Sorted: [3 5 10 18 55 66 93]\n"
          ]
        }
      ]
    },
    {
      "cell_type": "markdown",
      "source": [
        "# **TASK** - 3"
      ],
      "metadata": {
        "id": "6a415QPI2az4"
      }
    },
    {
      "cell_type": "code",
      "source": [
        "import numpy as np\n",
        "\n",
        "def distribute_tasks(tasks, m):\n",
        "    loads = np.zeros(m, dtype=int)\n",
        "\n",
        "    for task in tasks:\n",
        "        min_index = 0\n",
        "        for i in range(1, len(loads)):\n",
        "            if loads[i] < loads[min_index]:\n",
        "                min_index = i\n",
        "        loads[min_index] += task\n",
        "    temp = \"[\"\n",
        "    for i in range(len(loads)):\n",
        "        temp += str(loads[i])\n",
        "        if i != len(loads) - 1:\n",
        "            temp += \",\"\n",
        "\n",
        "    temp += \"]\"\n",
        "\n",
        "# Input\n",
        "tasks = np.array([2, 4, 7, 1, 6])\n",
        "m = 4\n",
        "result = distribute_tasks(tasks, m)\n",
        "print(result)\n"
      ],
      "metadata": {
        "colab": {
          "base_uri": "https://localhost:8080/"
        },
        "id": "j-YJhP4m1qks",
        "outputId": "75f70b47-5efd-42ae-e13f-27165d8101fe"
      },
      "execution_count": null,
      "outputs": [
        {
          "output_type": "stream",
          "name": "stdout",
          "text": [
            "[2,4,7,7]\n"
          ]
        }
      ]
    },
    {
      "cell_type": "markdown",
      "source": [
        "#Task-4#"
      ],
      "metadata": {
        "id": "PvKcO7gN7WLR"
      }
    },
    {
      "cell_type": "code",
      "source": [
        "class MaxHeap:\n",
        "    def __init__(self, capacity):\n",
        "        self.__array = [None] * capacity\n",
        "        self.__size = 0\n",
        "\n",
        "    def insert(self, value):\n",
        "        if self.__size == len(self.__array):\n",
        "            return f\"Heap is full.\"\n",
        "        self.__array[self.__size] = value\n",
        "        self.__size += 1\n",
        "        self.__swim(self.__size - 1)\n",
        "\n",
        "    def extractMax(self):\n",
        "        if self.__size == 0:\n",
        "            return f\"Heap is empty.\"\n",
        "        max_val = self.__array[0]\n",
        "        self.__array[0] = self.__array[self.__size - 1]\n",
        "        self.__size -= 1\n",
        "        self.__sink(0)\n",
        "        return max_val\n",
        "\n",
        "    def __swim(self, index):\n",
        "        while index > 0:\n",
        "            parent = (index - 1) // 2\n",
        "            if self.__array[index] > self.__array[parent]:\n",
        "                self.__swap(index, parent)\n",
        "                index = parent\n",
        "            else:\n",
        "                break\n",
        "\n",
        "    def __sink(self, index):\n",
        "        while 2 * index + 1 < self.__size:\n",
        "            left = 2 * index + 1\n",
        "            right = 2 * index + 2\n",
        "            largest = left\n",
        "\n",
        "            if right < self.__size and self.__array[right] > self.__array[left]:\n",
        "                largest = right\n",
        "\n",
        "            if self.__array[index] < self.__array[largest]:\n",
        "                self.__swap(index, largest)\n",
        "                index = largest\n",
        "            else:\n",
        "                break\n",
        "\n",
        "    def __swap(self, i, j):\n",
        "        self.__array[i], self.__array[j] = self.__array[j], self.__array[i]\n",
        "\n",
        "    def sort(self):\n",
        "        original_size = self.__size\n",
        "        for i in range(self.__size - 1, 0, -1):\n",
        "            self.__swap(0, i)\n",
        "            self.__size -= 1\n",
        "            self.__sink(0)\n",
        "        self.__size = original_size\n",
        "\n",
        "    def display(self):\n",
        "        return self.__array[:self.__size]\n",
        "\n",
        "def find_largest_k(nums, k):\n",
        "    max_heap = MaxHeap(len(nums))\n",
        "\n",
        "    for i in nums:\n",
        "        max_heap.insert(i)\n",
        "\n",
        "    result = []\n",
        "    for i in range(k):\n",
        "        result.append(max_heap.extractMax())\n",
        "    return result\n",
        "\n",
        "# Sample Input\n",
        "nums = [4, 10, 2, 8, 6, 7]\n",
        "k = 3\n",
        "print(find_largest_k(nums, k))\n"
      ],
      "metadata": {
        "colab": {
          "base_uri": "https://localhost:8080/"
        },
        "id": "Lqe0xw5IpmpL",
        "outputId": "e7644b0d-c755-48c8-9fbf-fb11b6c06319"
      },
      "execution_count": null,
      "outputs": [
        {
          "output_type": "stream",
          "name": "stdout",
          "text": [
            "[10, 8, 7]\n"
          ]
        }
      ]
    }
  ]
}