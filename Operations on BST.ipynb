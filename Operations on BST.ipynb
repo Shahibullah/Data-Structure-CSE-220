{
  "cells": [
    {
      "cell_type": "code",
      "execution_count": 1,
      "metadata": {
        "id": "D6vC520OPeTa"
      },
      "outputs": [],
      "source": [
        "class BTNode:\n",
        "  def __init__(self, elem):\n",
        "    self.elem = elem\n",
        "    self.right = None\n",
        "    self.left = None"
      ]
    },
    {
      "cell_type": "code",
      "execution_count": 2,
      "metadata": {
        "id": "UDTKlm4-PfNM"
      },
      "outputs": [],
      "source": [
        "def inorder(root):\n",
        "  if root == None:\n",
        "    return\n",
        "\n",
        "  inorder(root.left)\n",
        "  print(root.elem, end = ' ')\n",
        "  inorder(root.right)"
      ]
    },
    {
      "cell_type": "code",
      "execution_count": 4,
      "metadata": {
        "id": "Rtc22SPzPgzM",
        "colab": {
          "base_uri": "https://localhost:8080/"
        },
        "outputId": "1c54f3ee-2fad-4552-8ef2-5fe23b9aec76"
      },
      "outputs": [
        {
          "output_type": "stream",
          "name": "stdout",
          "text": [
            "H D B E A I F J C G k "
          ]
        }
      ],
      "source": [
        "def tree_construction(arr, i = 1):\n",
        "  if i>=len(arr) or arr[i] == None:\n",
        "    return None\n",
        "  p = BTNode(arr[i])\n",
        "  p.left = tree_construction(arr, 2*i)\n",
        "  p.right = tree_construction(arr, 2*i+1)\n",
        "  return p\n",
        "\n",
        "\n",
        "root2 = tree_construction([None, 'A', 'B', 'C', 'D', 'E', 'F', 'G', 'H', None, None, None, 'I', 'J', None, 'k'])\n",
        "inorder(root2)"
      ]
    },
    {
      "cell_type": "markdown",
      "metadata": {
        "id": "S2nNCJNhPqGq"
      },
      "source": [
        "Task 1"
      ]
    },
    {
      "cell_type": "code",
      "execution_count": 5,
      "metadata": {
        "id": "zbBHU3FoPieb",
        "colab": {
          "base_uri": "https://localhost:8080/"
        },
        "outputId": "b5e37aa7-de43-466b-f6c0-18def04e2b60"
      },
      "outputs": [
        {
          "output_type": "stream",
          "name": "stdout",
          "text": [
            "10\n",
            "15\n",
            "20\n",
            "25\n",
            "10\n"
          ]
        }
      ],
      "source": [
        "def LCA(root, x, y):\n",
        "  #TO DO\n",
        "  if root == None :\n",
        "    return None\n",
        "  if root.elem == x or root.elem == y:\n",
        "    return root.elem\n",
        "  if root.elem >= x   and root.elem >= y :\n",
        "    return LCA(root.left,x,y)\n",
        "  if root.elem <= x   and root.elem <= y :\n",
        "    return LCA(root.right,x,y)\n",
        "  if root.elem >= x   and root.elem <= y :\n",
        "    return root.elem\n",
        "  if root.elem <= x   and root.elem >= y :\n",
        "    return root.elem\n",
        "\n",
        "#DRIVER CODE\n",
        "root = BTNode(15)\n",
        "n1   = BTNode(10)\n",
        "n2   = BTNode(25)\n",
        "n3   = BTNode(8)\n",
        "n4   = BTNode(12)\n",
        "n5   = BTNode(20)\n",
        "n6   = BTNode(30)\n",
        "n7   = BTNode(6)\n",
        "n8   =BTNode(9)\n",
        "n9   = BTNode(18)\n",
        "n10  = BTNode(22)\n",
        "\n",
        "root.left  = n1\n",
        "root.right = n2\n",
        "\n",
        "n1.left    = n3\n",
        "n1.right   = n4\n",
        "\n",
        "n2.left    = n5\n",
        "n2.right   = n6\n",
        "\n",
        "n3.left    = n7\n",
        "n3.right   = n9\n",
        "\n",
        "n5.left    = n9\n",
        "n5.right   = n10\n",
        "print(LCA(root,6,12))\n",
        "print(LCA(root,20,6))\n",
        "print(LCA(root,18,22))\n",
        "print(LCA(root,20,25))\n",
        "print(LCA(root,10,12))\n",
        "#Write by yourself from the given tree (Create parent node and its corresponding left and right children nodes)\n",
        "#check all the sample inputs given\n",
        "#You can take help by seeing the driver code of Lab-6"
      ]
    },
    {
      "cell_type": "markdown",
      "metadata": {
        "id": "c-TBf3m0PrtK"
      },
      "source": [
        "Task 2"
      ]
    },
    {
      "cell_type": "code",
      "source": [
        "def find_Path(root, key):\n",
        "#To Do'\n",
        "\n",
        "  if root == None:\n",
        "      return None\n",
        "\n",
        "\n",
        "  if root.elem == key:\n",
        "      return str(root.elem) +\"]\"\n",
        "  if key < root.elem :\n",
        "      left_path = find_Path(root.left, key)\n",
        "      return str(root.elem) + \", \" + left_path\n",
        "\n",
        "\n",
        "  if key > root.elem:\n",
        "      right_path = find_Path(root.right, key)\n",
        "      return  str(root.elem) + \", \" + right_path\n",
        "\n",
        "\n",
        "  return 'No Path Found'\n",
        "#DRIVER CODE\n",
        "#Write by yourself from the given tree\n",
        "\n",
        "#This should print [30,10,15]\n",
        "root = BTNode(30)\n",
        "root.left = BTNode(10)\n",
        "root.right = BTNode(40)\n",
        "n1 = BTNode(3)\n",
        "n2 = BTNode(15)\n",
        "n3 = BTNode(35)\n",
        "n4 = BTNode(55)\n",
        "\n",
        "root.left.left   = n1\n",
        "root.left.right  = n2\n",
        "\n",
        "root.right.left  = n3\n",
        "root.right.right = n4\n",
        "\n",
        "print(\"[\",find_Path(root,15))\n",
        "#This should print No Path Found"
      ],
      "metadata": {
        "id": "i6l-v7k1eE9A",
        "colab": {
          "base_uri": "https://localhost:8080/"
        },
        "outputId": "0b9c7847-0a3f-483a-b3b9-45aadef10a36"
      },
      "execution_count": 7,
      "outputs": [
        {
          "output_type": "stream",
          "name": "stdout",
          "text": [
            "[ 30, 10, 15]\n"
          ]
        }
      ]
    },
    {
      "cell_type": "markdown",
      "metadata": {
        "id": "7r3lH3aWPz2d"
      },
      "source": [
        "Task 3"
      ]
    },
    {
      "cell_type": "code",
      "source": [
        "def sum_of_leaves(root, sum):\n",
        "\n",
        "    if root == None:\n",
        "        return sum\n",
        "    if root.left == None and root.right == None:\n",
        "        return sum + root.elem\n",
        "    if root.left != None :\n",
        "      sum = sum_of_leaves(root.left, sum)\n",
        "    if root.right != None:\n",
        "      sum = sum_of_leaves(root.right, sum)\n",
        "    return sum\n",
        "\n",
        "\n",
        "\n",
        "#DRIVER CODE\n",
        "#Write by yourself from the given tree\n",
        "root = BTNode(30)\n",
        "n1  = BTNode(10)\n",
        "n2 = BTNode(40)\n",
        "n3 = BTNode(3)\n",
        "n4 = BTNode(15)\n",
        "n5 = BTNode(35)\n",
        "n6 = BTNode(55)\n",
        "n7 = BTNode(36)\n",
        "n8 = BTNode(2)\n",
        "root.left  = n1\n",
        "root.right = n2\n",
        "\n",
        "n1.left    = n3\n",
        "n1.right   = n4\n",
        "\n",
        "n3.left    = n8\n",
        "\n",
        "n2.left    = n5\n",
        "n2.right   = n6\n",
        "\n",
        "n5.right   = n7\n",
        "print(sum_of_leaves(root, 0))"
      ],
      "metadata": {
        "id": "5eT12zYb8zm7",
        "colab": {
          "base_uri": "https://localhost:8080/"
        },
        "outputId": "79bcf19f-6750-4664-acaf-6913aaf6c0f0"
      },
      "execution_count": 19,
      "outputs": [
        {
          "output_type": "stream",
          "name": "stdout",
          "text": [
            "108\n"
          ]
        }
      ]
    },
    {
      "cell_type": "markdown",
      "metadata": {
        "id": "5KeA-BoC3uOo"
      },
      "source": [
        "Task 4"
      ]
    },
    {
      "cell_type": "code",
      "execution_count": 3,
      "metadata": {
        "id": "zFwP64v4Pu6d",
        "colab": {
          "base_uri": "https://localhost:8080/"
        },
        "outputId": "68b05101-baa3-44e7-d122-cb885b6ca540"
      },
      "outputs": [
        {
          "output_type": "stream",
          "name": "stdout",
          "text": [
            "Given Tree Inorder Traversal:  \n",
            "Inorder predecessor of node 20: 14\n",
            "Inorder predecessor of node 14: 12\n",
            "Inorder predecessor of node 10: 8\n"
          ]
        }
      ],
      "source": [
        "# Function to find the inorder traversal of the tree\n",
        "def inorder(root, result = []):\n",
        "\n",
        "    if root is None:\n",
        "        return\n",
        "    inorder(root.left, result)\n",
        "    result.append(root)\n",
        "    inorder(root.right, result)\n",
        "\n",
        "\n",
        "def inorder_predecessor(root, x):\n",
        "    if root == None or x == None:\n",
        "        return None\n",
        "\n",
        "\n",
        "    result = []\n",
        "    inorder(root, result)\n",
        "\n",
        "\n",
        "    for i in range(len(result)):\n",
        "        if result[i] == x:\n",
        "\n",
        "            if i > 0:\n",
        "                return result[i - 1]\n",
        "            else:\n",
        "                return None\n",
        "    return None\n",
        "\n",
        "#DRIVER CODE\n",
        "root = BTNode(20)\n",
        "n1 = BTNode(8)\n",
        "n2 = BTNode(22)\n",
        "n3 = BTNode(4)\n",
        "n4 = BTNode(12)\n",
        "n5 = BTNode(10)\n",
        "n6 = BTNode(14)\n",
        "\n",
        "root.left = n1\n",
        "root.right = n2\n",
        "\n",
        "n1.left = n3\n",
        "n1.right = n4\n",
        "\n",
        "n4.left = n5\n",
        "n4.right = n6\n",
        "\n",
        "print('Given Tree Inorder Traversal: ', end = ' ')\n",
        "inorder(root) #Given Tree Inorder Traversal:  4 8 10 12 14 20 22\n",
        "print()\n",
        "\n",
        "x = root\n",
        "print(f'Inorder predecessor of node {x.elem}: {inorder_predecessor(root, x).elem}') #Inorder predecessor of node 20: 14\n",
        "x = root.left.right.right\n",
        "print(f'Inorder predecessor of node {x.elem}: {inorder_predecessor(root, x).elem}') #Inorder predecessor of node 14: 12\n",
        "x = root.left.right.left\n",
        "print(f'Inorder predecessor of node {x.elem}: {inorder_predecessor(root, x).elem}') #Inorder predecessor of node 10: 8"
      ]
    }
  ],
  "metadata": {
    "colab": {
      "provenance": []
    },
    "kernelspec": {
      "display_name": "Python 3",
      "name": "python3"
    },
    "language_info": {
      "name": "python"
    }
  },
  "nbformat": 4,
  "nbformat_minor": 0
}