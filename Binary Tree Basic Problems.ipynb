{
  "cells": [
    {
      "cell_type": "code",
      "execution_count": null,
      "metadata": {
        "id": "D6vC520OPeTa"
      },
      "outputs": [],
      "source": [
        "class BTNode:\n",
        "  def __init__(self, elem):\n",
        "    self.elem = elem\n",
        "    self.right = None\n",
        "    self.left = None"
      ]
    },
    {
      "cell_type": "code",
      "execution_count": null,
      "metadata": {
        "id": "UDTKlm4-PfNM"
      },
      "outputs": [],
      "source": [
        "def inorder(root):\n",
        "  if root == None:\n",
        "    return\n",
        "  inorder(root.left)\n",
        "  print(root.elem, end = ' ')\n",
        "  inorder(root.right)"
      ]
    },
    {
      "cell_type": "code",
      "execution_count": null,
      "metadata": {
        "id": "Rtc22SPzPgzM",
        "colab": {
          "base_uri": "https://localhost:8080/"
        },
        "outputId": "e5d015d3-a287-4f68-b6db-33d71993a994"
      },
      "outputs": [
        {
          "output_type": "stream",
          "name": "stdout",
          "text": [
            "H D B E A I F J C G k "
          ]
        }
      ],
      "source": [
        "def tree_construction(arr, i = 1):\n",
        "  if i>=len(arr) or arr[i] == None:\n",
        "    return None\n",
        "  p = BTNode(arr[i])\n",
        "  p.left = tree_construction(arr, 2*i)\n",
        "  p.right = tree_construction(arr, 2*i+1)\n",
        "  return p\n",
        "root2 = tree_construction([None, 'A', 'B', 'C', 'D', 'E', 'F', 'G', 'H', None, None, None, 'I', 'J', None, 'k'])\n",
        "inorder(root2)"
      ]
    },
    {
      "cell_type": "markdown",
      "metadata": {
        "id": "S2nNCJNhPqGq"
      },
      "source": [
        "Task 1"
      ]
    },
    {
      "cell_type": "code",
      "execution_count": null,
      "metadata": {
        "id": "zbBHU3FoPieb",
        "colab": {
          "base_uri": "https://localhost:8080/"
        },
        "outputId": "ae60c3e5-5927-4aed-92b9-d305763c90a6"
      },
      "outputs": [
        {
          "output_type": "stream",
          "name": "stdout",
          "text": [
            "Given Tree Inorder Traversal:  40 20 60 10 30 \n",
            "Mirrored Tree Inorder Traversal:  30 10 60 20 40 "
          ]
        }
      ],
      "source": [
        "def convert_mirror(root):\n",
        "  #To Do\n",
        "  if root is None:\n",
        "      return None\n",
        "  else:\n",
        "    convert_mirror(root.left)\n",
        "    convert_mirror(root.right)\n",
        "    root.left,root.right = root.right , root.left\n",
        "    return root\n",
        "\n",
        "\n",
        "#DRIVER CODE\n",
        "root = BTNode(10)\n",
        "n1 = BTNode(20)\n",
        "n2 = BTNode(30)\n",
        "n3 = BTNode(40)\n",
        "n4 = BTNode(60)\n",
        "\n",
        "root.left = n1\n",
        "root.right = n2\n",
        "\n",
        "n1.left = n3\n",
        "n1.right = n4\n",
        "\n",
        "print('Given Tree Inorder Traversal: ', end = ' ')\n",
        "inorder(root) #Given Tree Inorder Traversal:  40 20 60 10 30\n",
        "print()\n",
        "\n",
        "root2 = convert_mirror(root)\n",
        "print('Mirrored Tree Inorder Traversal: ', end = ' ')\n",
        "inorder(root2) #Mirrored Tree Inorder Traversal:  30 10 60 20 40"
      ]
    },
    {
      "cell_type": "markdown",
      "metadata": {
        "id": "c-TBf3m0PrtK"
      },
      "source": [
        "Task 2"
      ]
    },
    {
      "cell_type": "code",
      "execution_count": null,
      "metadata": {
        "id": "lsuxinlBPmji",
        "colab": {
          "base_uri": "https://localhost:8080/"
        },
        "outputId": "98289b10-cab5-41e7-efa0-c6d938bf7d29"
      },
      "outputs": [
        {
          "output_type": "stream",
          "name": "stdout",
          "text": [
            "Given Tree Inorder Traversal:  3 9 -5 4 2 7 \n",
            "Level Wise Smallest Value:  {0: 4, 1: 2, 2: -5}\n"
          ]
        }
      ],
      "source": [
        "def smallest_level(root, level = {}, i = 0):\n",
        "  #To Do\n",
        "  if root is None:\n",
        "        return level\n",
        "\n",
        "  # Update the smallest value for the current level\n",
        "  if i  in level :\n",
        "    if root.elem < level[i]:\n",
        "        level[i] = root.elem\n",
        "  else:\n",
        "    level[i] = root.elem\n",
        "\n",
        "  # Recur for left and right subtrees\n",
        "  smallest_level(root.left, level, i + 1)\n",
        "  smallest_level(root.right, level, i + 1)\n",
        "  return level\n",
        "\n",
        "\n",
        "#DRIVER CODE\n",
        "root = tree_construction([None, 4,9,2,3,-5,None,7])\n",
        "print('Given Tree Inorder Traversal: ', end = ' ')\n",
        "inorder(root) #Given Tree Inorder Traversal:  3 9 5 4 2 7\n",
        "print()\n",
        "print('Level Wise Smallest Value: ', end = ' ')\n",
        "print(smallest_level(root)) #Level Wise Smallest Value:  {0: 4, 1: 2, 2: -5}"
      ]
    },
    {
      "cell_type": "markdown",
      "metadata": {
        "id": "t3IGW4OaP8Vy"
      },
      "source": [
        "Task 3"
      ]
    },
    {
      "cell_type": "code",
      "execution_count": null,
      "metadata": {
        "id": "m4E9_E8PThk6"
      },
      "outputs": [],
      "source": [
        "def sumTree(root):\n",
        "  def sum_level_mod(node, level):\n",
        "    if node is None:\n",
        "      return 0\n",
        "\n",
        "    if level != 0:\n",
        "      mod_val = node.elem % level\n",
        "    else:\n",
        "      mod_val = node.elem\n",
        "\n",
        "\n",
        "    left_sum = sum_level_mod(node.left, level + 1)\n",
        "    right_sum = sum_level_mod(node.right, level + 1)\n",
        "\n",
        "    return mod_val + left_sum + right_sum\n",
        "\n",
        "  return sum_level_mod(root, 0)\n",
        "\n",
        "\n",
        "  # To DO\n",
        "  #you can declare as many helper function with extra parameters as you need .\n",
        "  #You can not modify the parameters of sumTree or modify any part of the given code."
      ]
    },
    {
      "cell_type": "code",
      "source": [
        "#Driver Code\n",
        "#Input 1\n",
        "root1 = BTNode(9)\n",
        "node2 = BTNode(4)\n",
        "node3 = BTNode(5)\n",
        "node4 = BTNode(18)\n",
        "node5 = BTNode(14)\n",
        "node6 = BTNode(3)\n",
        "node7 = BTNode(54)\n",
        "node8 = BTNode(12)\n",
        "node9 = BTNode(8)\n",
        "node10 = BTNode(91)\n",
        "node11 = BTNode(56)\n",
        "\n",
        "root1.left = node2\n",
        "root1.right = node3\n",
        "\n",
        "node2.left = node4\n",
        "\n",
        "node3.left = node5\n",
        "node3.right = node6\n",
        "\n",
        "node4.left = node7\n",
        "node4.right = node8\n",
        "\n",
        "node5.left = node9\n",
        "\n",
        "node8.left = node10\n",
        "node8.right = node11\n",
        "\n",
        "print(sumTree(root1)) #This should print 15"
      ],
      "metadata": {
        "id": "wV3ezsf_Kwli",
        "colab": {
          "base_uri": "https://localhost:8080/"
        },
        "outputId": "5c9dab0e-691e-476e-90f3-e37744bdd5c5"
      },
      "execution_count": null,
      "outputs": [
        {
          "output_type": "stream",
          "name": "stdout",
          "text": [
            "15\n"
          ]
        }
      ]
    },
    {
      "cell_type": "markdown",
      "source": [
        "Task 4\n"
      ],
      "metadata": {
        "id": "8GJeWub8Ki1X"
      }
    },
    {
      "cell_type": "code",
      "source": [
        "def swap_child(root, level, M):\n",
        "  #To Do\n",
        "\n",
        "  if root == None:\n",
        "      return None\n",
        "  if  level >= M:\n",
        "      root.left, root.right = root.left, root.right\n",
        "  else:\n",
        "      root.left, root.right = root.right, root.left\n",
        "\n",
        "  swap_child(root.left, level + 1 ,  M)\n",
        "  swap_child(root.right, level + 1, M)\n",
        "\n",
        "  return root\n",
        "\n",
        "\n",
        "\n",
        "#Driver Code\n",
        "root=BTNode('A')\n",
        "#Write other nodes by yourself from the given tree of Doc File\n",
        "\n",
        "node2 = BTNode(\"B\")\n",
        "node3 = BTNode(\"C\")\n",
        "node4 = BTNode(\"D\")\n",
        "node5 = BTNode(\"E\")\n",
        "node6 = None\n",
        "node7 = BTNode(\"F\")\n",
        "node8 = BTNode(\"G\")\n",
        "node9 = BTNode(\"H\")\n",
        "node10 = BTNode(\"I\")\n",
        "node11 = None\n",
        "node12 = BTNode(\"J\")\n",
        "node13 = None\n",
        "\n",
        "root.left = node2\n",
        "root.right = node3\n",
        "\n",
        "node2.left = node4\n",
        "node2.right = node5\n",
        "\n",
        "node3.left  = None\n",
        "node3.right = node7\n",
        "\n",
        "\n",
        "node4.left = node8\n",
        "node4.right = node9\n",
        "\n",
        "node5.left  = node10\n",
        "node5.right = None\n",
        "\n",
        "node7.left  = node12\n",
        "node7.right = None\n",
        "\n",
        "print('Given Tree Inorder Traversal: ', end = ' ')\n",
        "inorder(root)   #Given Tree Inorder Traversal: G D H B I E A C J F\n",
        "print()\n",
        "\n",
        "root2 = swap_child(root, 0, 2)\n",
        "print('Swapped Tree Inorder Traversal: ', end = ' ')\n",
        "inorder(root2)  #Swapped Tree Inorder Traversal: J F C A I E B G D H"
      ],
      "metadata": {
        "id": "0Rb_m6FRKktN",
        "colab": {
          "base_uri": "https://localhost:8080/"
        },
        "outputId": "f6ac2a3a-ed51-45bc-e106-cc5bc134ce7b"
      },
      "execution_count": null,
      "outputs": [
        {
          "output_type": "stream",
          "name": "stdout",
          "text": [
            "Given Tree Inorder Traversal:  G D H B I E A C J F \n",
            "Swapped Tree Inorder Traversal:  J F C A I E B G D H "
          ]
        }
      ]
    },
    {
      "cell_type": "markdown",
      "source": [
        "Task 5"
      ],
      "metadata": {
        "id": "VrHklDOEKlHf"
      }
    },
    {
      "cell_type": "code",
      "source": [
        "def subtract_summation(root):\n",
        "  #To Do\n",
        "\n",
        "  if root is None:\n",
        "      return 0\n",
        "\n",
        "\n",
        "  left_sum = calculate_sum(root.left)\n",
        "  right_sum = calculate_sum(root.right)\n",
        "\n",
        "\n",
        "  return left_sum - right_sum\n",
        "def calculate_sum(root):\n",
        "\n",
        "    if root is None:\n",
        "        return 0\n",
        "\n",
        "    return root.elem + calculate_sum(root.left) + calculate_sum(root.right)\n",
        "\n",
        "\n",
        "#Driver Code\n",
        "root=BTNode(71)\n",
        "#Write other nodes by yourself from the given tree of Doc File\n",
        "node1 = BTNode(27)\n",
        "node2 = BTNode(62)\n",
        "node3 = BTNode(80)\n",
        "node4 = BTNode(75)\n",
        "node5 = BTNode(41)\n",
        "node6 = BTNode(3)\n",
        "node7 = BTNode(87)\n",
        "node8 = BTNode(56)\n",
        "node9 = None\n",
        "node10 = None\n",
        "node11 = None\n",
        "node12 = None\n",
        "node13 = BTNode(19)\n",
        "node14 = BTNode(89)\n",
        "\n",
        "root.left = node1\n",
        "root.right = node2\n",
        "\n",
        "node1.left = node3\n",
        "node1.right = node4\n",
        "\n",
        "node2.left = node5\n",
        "node2.right = node6\n",
        "\n",
        "node3.left = node7\n",
        "node3.right = node8\n",
        "\n",
        "node6.left = node13\n",
        "node6.right = node14\n",
        "\n",
        "print(subtract_summation(root)) #This should print 111"
      ],
      "metadata": {
        "id": "dMXJ2qxkNn_F",
        "colab": {
          "base_uri": "https://localhost:8080/"
        },
        "outputId": "c0c5724e-5a7e-47b4-fd41-c90cd81718a9"
      },
      "execution_count": null,
      "outputs": [
        {
          "output_type": "stream",
          "name": "stdout",
          "text": [
            "111\n"
          ]
        }
      ]
    },
    {
      "cell_type": "markdown",
      "metadata": {
        "id": "SBD-0xoZP_ni"
      },
      "source": [
        "Bonus Task"
      ]
    },
    {
      "cell_type": "code",
      "source": [
        "def level_sum(root):\n",
        "  #To Do\n",
        "\n",
        "  def doSum(node, level):\n",
        "      if node is None:\n",
        "          return 0\n",
        "      Even_sumValue = 0\n",
        "      Odd_sumValue = 0\n",
        "\n",
        "\n",
        "      if level % 2 == 0:\n",
        "          Even_sumValue = -node.elem + doSum(node.left, level + 1) + doSum(node.right, level + 1)\n",
        "\n",
        "      if level % 2 != 0:\n",
        "          Odd_sumValue = node.elem + doSum(node.left, level + 1) + doSum(node.right, level + 1)\n",
        "\n",
        "      return Even_sumValue + Odd_sumValue\n",
        "\n",
        "  return doSum(root, level = 0)\n",
        "\n",
        "#DRIVER CODE\n",
        "root = BTNode(1)\n",
        "n2 = BTNode(2)\n",
        "n3 = BTNode(3)\n",
        "n4 = BTNode(4)\n",
        "n5 = BTNode(5)\n",
        "n6 = BTNode(6)\n",
        "n7 = BTNode(7)\n",
        "n8 = BTNode(8)\n",
        "root.left = n2\n",
        "root.right = n3\n",
        "\n",
        "n2.left = n4\n",
        "n3.left = n5\n",
        "n3.right = n6\n",
        "\n",
        "n5.left = n7\n",
        "n5.right = n8\n",
        "\n",
        "\n",
        "print(level_sum(root)) #This should print 4"
      ],
      "metadata": {
        "id": "U_LYhaRIxZCb",
        "colab": {
          "base_uri": "https://localhost:8080/"
        },
        "outputId": "882cda45-01e3-474a-f9d3-6d0a639d46cb"
      },
      "execution_count": null,
      "outputs": [
        {
          "output_type": "stream",
          "name": "stdout",
          "text": [
            "4\n"
          ]
        }
      ]
    }
  ],
  "metadata": {
    "colab": {
      "provenance": []
    },
    "kernelspec": {
      "display_name": "Python 3",
      "name": "python3"
    },
    "language_info": {
      "name": "python"
    }
  },
  "nbformat": 4,
  "nbformat_minor": 0
}