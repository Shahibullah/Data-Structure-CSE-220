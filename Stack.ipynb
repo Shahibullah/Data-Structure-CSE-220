{
  "nbformat": 4,
  "nbformat_minor": 0,
  "metadata": {
    "colab": {
      "provenance": []
    },
    "kernelspec": {
      "name": "python3",
      "display_name": "Python 3"
    },
    "language_info": {
      "name": "python"
    }
  },
  "cells": [
    {
      "cell_type": "code",
      "execution_count": 3,
      "metadata": {
        "id": "Pp1R95Pe7ID2",
        "outputId": "cac7cd2a-e060-4ff0-85e9-804028d4ba8b",
        "colab": {
          "base_uri": "https://localhost:8080/"
        }
      },
      "outputs": [
        {
          "output_type": "stream",
          "name": "stdout",
          "text": [
            "Requirement already satisfied: fhm-unittest in /usr/local/lib/python3.10/dist-packages (1.0.1)\n",
            "Requirement already satisfied: fuzzywuzzy in /usr/local/lib/python3.10/dist-packages (0.18.0)\n"
          ]
        }
      ],
      "source": [
        "# You must run this cell to install dependency\n",
        "! pip3 install fhm-unittest\n",
        "! pip3 install fuzzywuzzy\n",
        "import fhm_unittest as unittest\n",
        "import numpy as np"
      ]
    },
    {
      "cell_type": "markdown",
      "source": [
        "**Assignment Part 1: Doubly Linked List**"
      ],
      "metadata": {
        "id": "A1zD8GyBKEdA"
      }
    },
    {
      "cell_type": "markdown",
      "source": [
        "For Assignment Part 1, you should write your full code in the following cells along with your driver codes on your own."
      ],
      "metadata": {
        "id": "z4q4a-vSNoII"
      }
    },
    {
      "cell_type": "code",
      "source": [
        "#Assignment Part 1\n",
        "\n",
        "class Patient:\n",
        "  #write a constructor\n",
        "  def __init__(self, id, name, age, bloodgroup, next, prev):\n",
        "    self.id         = id\n",
        "    self.name       = name\n",
        "    self.age        = age\n",
        "    self.bloodgroup = bloodgroup\n",
        "    self.next       = next\n",
        "    self.prev       = prev"
      ],
      "metadata": {
        "id": "itoWpG7oNziA"
      },
      "execution_count": 5,
      "outputs": []
    },
    {
      "cell_type": "code",
      "source": [
        "class WRM:\n",
        "\n",
        "  def __init__(self):\n",
        "    #Creating the dummy head\n",
        "    self.dh = Patient(None,None,None,None,None,None)\n",
        "    self.dh.next = self.dh\n",
        "    self.dh.prev = self.dh\n",
        "\n",
        "  def registerPatient(self,id, name, age, bloodgroup):\n",
        "    #To Do\n",
        "        # Creating a new patient\n",
        "        new_patient = Patient(id, name, age, bloodgroup, None, None)\n",
        "        # Adding the new patient at the end of the doubly linked list\n",
        "        last = self.dh.prev\n",
        "        last.next = new_patient\n",
        "        new_patient.prev = last\n",
        "        new_patient.next = self.dh\n",
        "        self.dh.prev = new_patient\n",
        "\n",
        "\n",
        "  def servePatient(self):\n",
        "    #To Do\n",
        "        # Serve the first patient in line (next to the dummy head)\n",
        "        if self.dh.next == self.dh:\n",
        "            print(\"No patients to serve.\")\n",
        "            return\n",
        "        first_patient = self.dh.next\n",
        "        print(f\"Patient served: {first_patient.name}\")\n",
        "        # Remove the patient from the list\n",
        "        self.dh.next = first_patient.next\n",
        "        first_patient.next.prev = self.dh\n",
        "\n",
        "  def showAllPatient(self):\n",
        "    #To Do\n",
        "        # Display all patients in the list\n",
        "        if self.dh.next == self.dh:\n",
        "            print(\"No patients in the list.\")\n",
        "            return\n",
        "        current = self.dh.next\n",
        "        print(\"Patients in the queue:\")\n",
        "        while current != self.dh:\n",
        "            print(f\"ID: {current.id}, Name: {current.name}, Age: {current.age}, Blood Group: {current.bloodgroup}\")\n",
        "            current = current.next\n",
        "\n",
        "  def canDoctorGoHome(self):\n",
        "    #To Do\n",
        "        # Check if the list is empty\n",
        "        if self.dh.next == self.dh:\n",
        "            print(\"Yes, the doctor can go home.\")\n",
        "            return True\n",
        "        print(\"No, there are still patients in the queue.\")\n",
        "        return False\n",
        "\n",
        "  def cancelAll(self):\n",
        "    #To Do\n",
        "        # Remove all patients from the list\n",
        "        self.dh.next = self.dh\n",
        "        self.dh.prev = self.dh\n",
        "        print(\"All patients have been removed from the queue.\")\n",
        "\n",
        "  def ReverseTheLine(self):\n",
        "    #To Do\n",
        "        # Reverse the order of patients in the list\n",
        "        if self.dh.next == self.dh:\n",
        "            print(\"No patients to reverse.\")\n",
        "            return\n",
        "        current = self.dh\n",
        "        while True:\n",
        "            # Swap next and prev for each patient\n",
        "            current.next, current.prev = current.prev, current.next\n",
        "            current = current.prev  # Move to the \"next\" patient in reversed order\n",
        "            if current == self.dh:\n",
        "                break\n",
        "        print(\"The patient queue has been reversed.\")\n"
      ],
      "metadata": {
        "id": "dNx7zTJ1OZNv"
      },
      "execution_count": 14,
      "outputs": []
    },
    {
      "cell_type": "code",
      "source": [
        "#Write a Tester Code in this cell\n",
        "\n",
        "print(\"**Welcome to Waiting Room Management System**\")\n",
        "hospital = WRM()\n",
        "#======================registerPatient=======================\n",
        "patient1 = Patient(1,'Md Muqsit Islam', 24, 'O+', None, None)\n",
        "hospital.registerPatient(1, 'Md Muqsit Islam', 24, 'O+')\n",
        "hospital.registerPatient(2, 'John Doe', 30, 'A-')\n",
        "hospital.registerPatient(3, 'Jane Smith', 28, 'B+')\n",
        "#=======================showAllPatient========================\n",
        "hospital.showAllPatient()\n",
        "#=========================canDoctorGoHome=====================\n",
        "hospital.canDoctorGoHome()\n",
        "#=========================servePatient========================\n",
        "hospital.servePatient()\n",
        "hospital.servePatient()\n",
        "#==========================cancelAll==========================\n",
        "hospital.cancelAll()\n",
        "hospital.showAllPatient()\n",
        "hospital.registerPatient(1, 'Md Muqsit Islam', 24, 'O+')\n",
        "hospital.registerPatient(2, 'John Doe', 30, 'A-')\n",
        "hospital.registerPatient(3, 'Jane Smith', 28, 'B+')\n",
        "hospital.showAllPatient()\n",
        "#========================ReverseTheLine====================\n",
        "hospital.ReverseTheLine()\n",
        "hospital.showAllPatient()"
      ],
      "metadata": {
        "id": "jKhbn1LAPfjr",
        "outputId": "5e519281-5959-4430-9ac8-ef87c849656b",
        "colab": {
          "base_uri": "https://localhost:8080/"
        }
      },
      "execution_count": 16,
      "outputs": [
        {
          "output_type": "stream",
          "name": "stdout",
          "text": [
            "**Welcome to Waiting Room Management System**\n",
            "Patients in the queue:\n",
            "ID: 1, Name: Md Muqsit Islam, Age: 24, Blood Group: O+\n",
            "ID: 2, Name: John Doe, Age: 30, Blood Group: A-\n",
            "ID: 3, Name: Jane Smith, Age: 28, Blood Group: B+\n",
            "No, there are still patients in the queue.\n",
            "Patient served: Md Muqsit Islam\n",
            "Patient served: John Doe\n",
            "All patients have been removed from the queue.\n",
            "No patients in the list.\n",
            "Patients in the queue:\n",
            "ID: 1, Name: Md Muqsit Islam, Age: 24, Blood Group: O+\n",
            "ID: 2, Name: John Doe, Age: 30, Blood Group: A-\n",
            "ID: 3, Name: Jane Smith, Age: 28, Blood Group: B+\n",
            "The patient queue has been reversed.\n",
            "Patients in the queue:\n",
            "ID: 3, Name: Jane Smith, Age: 28, Blood Group: B+\n",
            "ID: 2, Name: John Doe, Age: 30, Blood Group: A-\n",
            "ID: 1, Name: Md Muqsit Islam, Age: 24, Blood Group: O+\n"
          ]
        }
      ]
    },
    {
      "cell_type": "markdown",
      "source": [
        "**Assignment Part 2: Stack**\n",
        "\n",
        "Linked List based Stack is implemented in the following cell."
      ],
      "metadata": {
        "id": "CJWd_j6YEnPn"
      }
    },
    {
      "cell_type": "code",
      "source": [
        "class Node:\n",
        "  def __init__(self,elem=None,next=None):\n",
        "    self.elem = elem\n",
        "    self.next = next\n",
        "\n",
        "class Stack:\n",
        "  def __init__(self):\n",
        "    self.__top = None\n",
        "\n",
        "  def push(self,elem):\n",
        "    nn = Node(elem,self.__top)\n",
        "    self.__top = nn\n",
        "\n",
        "  def pop(self):\n",
        "    if self.__top == None:\n",
        "      #print('Stack Underflow')\n",
        "      return None\n",
        "    e = self.__top\n",
        "    self.__top = self.__top.next\n",
        "    return e.elem\n",
        "\n",
        "  def peek(self):\n",
        "    if self.__top == None:\n",
        "      #print('Stack Underflow')\n",
        "      return None\n",
        "    return self.__top.elem\n",
        "\n",
        "  def isEmpty(self):\n",
        "    return self.__top == None\n"
      ],
      "metadata": {
        "id": "KHLhs5x0D-O6"
      },
      "execution_count": 85,
      "outputs": []
    },
    {
      "cell_type": "code",
      "source": [
        "#You can run this driver code cell to understand the methods of Stack class\n",
        "st = Stack()\n",
        "st.push(4)\n",
        "st.push(3)\n",
        "st.push(5)\n",
        "st.push(1)\n",
        "st.push(9)\n",
        "\n",
        "print('Peeked Element: ',st.peek())\n",
        "print('Popped Element: ',st.pop())\n",
        "print('Popped Element: ',st.pop())\n",
        "print('Popped Element: ',st.pop())\n",
        "print('Peeked Element: ',st.peek())\n",
        "print('Popped Element: ',st.pop())\n",
        "print('Popped Element: ',st.pop())\n",
        "print('Peeked Element: ',st.peek())\n",
        "print('Popped Element: ',st.pop())\n",
        "print(st.isEmpty())"
      ],
      "metadata": {
        "id": "4XkuMA7gEjE7",
        "outputId": "1d1581a8-0f65-4830-89f5-a00825a161e4",
        "colab": {
          "base_uri": "https://localhost:8080/"
        }
      },
      "execution_count": 35,
      "outputs": [
        {
          "output_type": "stream",
          "name": "stdout",
          "text": [
            "Peeked Element:  9\n",
            "Popped Element:  9\n",
            "Popped Element:  1\n",
            "Popped Element:  5\n",
            "Peeked Element:  3\n",
            "Popped Element:  3\n",
            "Popped Element:  4\n",
            "Peeked Element:  None\n",
            "Popped Element:  None\n",
            "True\n"
          ]
        }
      ]
    },
    {
      "cell_type": "markdown",
      "source": [
        "You can print your stack using this code segment"
      ],
      "metadata": {
        "id": "xrfONLccG9Gi"
      }
    },
    {
      "cell_type": "code",
      "source": [
        "def print_stack(st):\n",
        "  if st.isEmpty():\n",
        "    return\n",
        "  p = st.pop()\n",
        "  print('|',p,end=' ')\n",
        "  if p<10:\n",
        "    print(' |')\n",
        "  else:\n",
        "    print('|')\n",
        "  #print('------')\n",
        "  print_stack(st)\n",
        "  st.push(p)\n",
        "\n",
        "st = Stack()\n",
        "\n",
        "st.push(4)\n",
        "st.push(3)\n",
        "st.push(5)\n",
        "st.push(1)\n",
        "st.push(9)\n",
        "print_stack(st)\n",
        "print('------')"
      ],
      "metadata": {
        "id": "S-EembO_GsWA",
        "outputId": "aaddec29-56f8-4d90-c4b5-f01a92cd4acd",
        "colab": {
          "base_uri": "https://localhost:8080/"
        }
      },
      "execution_count": 38,
      "outputs": [
        {
          "output_type": "stream",
          "name": "stdout",
          "text": [
            "| 9  |\n",
            "| 1  |\n",
            "| 5  |\n",
            "| 3  |\n",
            "| 4  |\n",
            "------\n"
          ]
        }
      ]
    },
    {
      "cell_type": "markdown",
      "source": [
        "Task 1: Diamond Count"
      ],
      "metadata": {
        "id": "iNMnfqqpIga2"
      }
    },
    {
      "cell_type": "code",
      "source": [
        "def diamond_count(stack,string):\n",
        "  #TO DO\n",
        "  count = 0\n",
        "  temp_stack = Stack()\n",
        "  for i in range(len(string)):\n",
        "      if string[i] == '<':\n",
        "          temp_stack.push(string[i])\n",
        "\n",
        "      elif string[i] == '>':\n",
        "          if temp_stack.isEmpty() != True:\n",
        "            if  temp_stack.peek() == '<':\n",
        "                temp_stack.pop()\n",
        "                count += 1\n",
        "  return count\n",
        "print('Test 01')\n",
        "stack = Stack()\n",
        "string = '<..><.<..>> '\n",
        "returned_value = diamond_count(stack,string)\n",
        "print(f'Number of Diamonds: {returned_value}') #This should print 3\n",
        "unittest.output_test(returned_value, 3)\n",
        "print('-----------------------------------------')\n",
        "\n",
        "\n",
        "print('Test 02')\n",
        "stack = Stack()\n",
        "string = '<<<..<......<<<<....>'\n",
        "returned_value = diamond_count(stack,string)\n",
        "print(f'Number of Diamonds: {returned_value}') #This should print 1\n",
        "unittest.output_test(returned_value, 1)\n",
        "print('-----------------------------------------')\n",
        "\n",
        "\n",
        "print('Test 03')\n",
        "stack = Stack()\n",
        "string = '>>><...<<..>>...>...>>>'\n",
        "returned_value = diamond_count(stack,string)\n",
        "print(f'Number of Diamonds: {returned_value}') #This should print 3\n",
        "unittest.output_test(returned_value, 3)\n",
        "print('-----------------------------------------')"
      ],
      "metadata": {
        "id": "GnX70OIvG_gZ",
        "outputId": "fb81fd64-a0ff-4d3b-ce23-68e6a08a8dc1",
        "colab": {
          "base_uri": "https://localhost:8080/"
        }
      },
      "execution_count": 48,
      "outputs": [
        {
          "output_type": "stream",
          "name": "stdout",
          "text": [
            "Test 01\n",
            "Number of Diamonds: 3\n",
            "Accepted\n",
            "-----------------------------------------\n",
            "Test 02\n",
            "Number of Diamonds: 1\n",
            "Accepted\n",
            "-----------------------------------------\n",
            "Test 03\n",
            "Number of Diamonds: 3\n",
            "Accepted\n",
            "-----------------------------------------\n"
          ]
        }
      ]
    },
    {
      "cell_type": "markdown",
      "source": [
        "Task 2: Tower of Blocks"
      ],
      "metadata": {
        "id": "PhCF3SZ6IX5g"
      }
    },
    {
      "cell_type": "code",
      "source": [
        "def remove_block(stack, n):\n",
        "  #TO DO\n",
        "\n",
        "    temp_stack = Stack()\n",
        "\n",
        "\n",
        "    for i in range(n - 1):\n",
        "        if  stack.isEmpty() == False:\n",
        "            temp_stack.push(stack.pop())\n",
        "        else:\n",
        "            return\n",
        "\n",
        "\n",
        "    if  stack.isEmpty() == False:\n",
        "        stack.pop()\n",
        "    else:\n",
        "        return\n",
        "\n",
        "    while  temp_stack.isEmpty() == False:\n",
        "        stack.push(temp_stack.pop())\n",
        "\n",
        "\n",
        "\n",
        "print('Test 01')\n",
        "st = Stack()\n",
        "st.push(4)\n",
        "st.push(19)\n",
        "st.push(23)\n",
        "st.push(17)\n",
        "st.push(5)\n",
        "print('Stack:')\n",
        "print_stack(st)\n",
        "print('------')\n",
        "remove_block(st,2)\n",
        "print('After Removal')\n",
        "print_stack(st)\n",
        "print('------')\n",
        "\n",
        "print()\n",
        "print('======================================')\n",
        "print()\n",
        "\n",
        "print('Test 02')\n",
        "st = Stack()\n",
        "st.push(73)\n",
        "st.push(85)\n",
        "st.push(15)\n",
        "st.push(41)\n",
        "print('Stack:')\n",
        "print_stack(st)\n",
        "print('------')\n",
        "remove_block(st,3)\n",
        "print('After Removal')\n",
        "print_stack(st)\n",
        "print('------')\n",
        "\n",
        "print()\n",
        "print('======================================')\n",
        "print()"
      ],
      "metadata": {
        "id": "W3N4q7YAHExr",
        "outputId": "83c42842-f3f7-4930-8573-faf529a9a6bf",
        "colab": {
          "base_uri": "https://localhost:8080/"
        }
      },
      "execution_count": 109,
      "outputs": [
        {
          "output_type": "stream",
          "name": "stdout",
          "text": [
            "Test 01\n",
            "Stack:\n",
            "| 5  |\n",
            "| 17 |\n",
            "| 23 |\n",
            "| 19 |\n",
            "| 4  |\n",
            "------\n",
            "After Removal\n",
            "| 5  |\n",
            "| 23 |\n",
            "| 19 |\n",
            "| 4  |\n",
            "------\n",
            "\n",
            "======================================\n",
            "\n",
            "Test 02\n",
            "Stack:\n",
            "| 41 |\n",
            "| 15 |\n",
            "| 85 |\n",
            "| 73 |\n",
            "------\n",
            "After Removal\n",
            "| 41 |\n",
            "| 15 |\n",
            "| 73 |\n",
            "------\n",
            "\n",
            "======================================\n",
            "\n"
          ]
        }
      ]
    },
    {
      "cell_type": "markdown",
      "source": [
        "Task 3: Stack Reverse"
      ],
      "metadata": {
        "id": "jcngRuqUWOfl"
      }
    },
    {
      "cell_type": "code",
      "source": [
        "def stack_count(st):\n",
        "    count = 0\n",
        "    temp_stack = Stack()\n",
        "\n",
        "    # Count the elements and use a temporary stack to preserve the original stack\n",
        "    while st.peek() is not None:\n",
        "        temp_stack.push(st.pop())\n",
        "        count += 1\n",
        "\n",
        "    # Restore the original stack\n",
        "    while temp_stack.peek() is not None:\n",
        "        st.push(temp_stack.pop())\n",
        "\n",
        "    return count\n",
        "\n",
        "def conditional_reverse(stack):\n",
        "  #To Do\n",
        "  t_stack = Stack()\n",
        "\n",
        "  flg  =True\n",
        "  for i in range(stack_count(stack)-1):\n",
        "    if stack.peek() != None and flg == True:\n",
        "      t_stack.push(stack.pop())\n",
        "      flg = False\n",
        "    if flg == False and  t_stack.peek() != stack.peek():\n",
        "      t_stack.push(stack.pop())\n",
        "    else:\n",
        "      stack.pop()\n",
        "  result_stack = Stack()\n",
        "  for i in range(stack_count(t_stack)):\n",
        "    result_stack.push(t_stack.pop())\n",
        "  return result_stack\n",
        "\n",
        "\n",
        "print('Test 01')\n",
        "st=Stack()\n",
        "st.push(10)\n",
        "st.push(10)\n",
        "st.push(20)\n",
        "st.push(20)\n",
        "st.push(30)\n",
        "st.push(10)\n",
        "st.push(50)\n",
        "print('Stack:')\n",
        "print_stack(st)\n",
        "print('------')\n",
        "reversed_stack=conditional_reverse(st)\n",
        "print('Conditional Reversed Stack:')\n",
        "print_stack(reversed_stack) # This stack contains 50, 10, 30, 20, 10 in this order whereas top element should be 10\n",
        "print('------')"
      ],
      "metadata": {
        "id": "gLSgfDKPWPnP",
        "outputId": "5edaa9bb-885f-406c-f2af-e633b4c4f625",
        "colab": {
          "base_uri": "https://localhost:8080/"
        }
      },
      "execution_count": 108,
      "outputs": [
        {
          "output_type": "stream",
          "name": "stdout",
          "text": [
            "Test 01\n",
            "Stack:\n",
            "| 50 |\n",
            "| 10 |\n",
            "| 30 |\n",
            "| 20 |\n",
            "| 20 |\n",
            "| 10 |\n",
            "| 10 |\n",
            "------\n",
            "Conditional Reversed Stack:\n",
            "| 50 |\n",
            "| 10 |\n",
            "| 30 |\n",
            "| 20 |\n",
            "| 10 |\n",
            "------\n"
          ]
        }
      ]
    }
  ]
}