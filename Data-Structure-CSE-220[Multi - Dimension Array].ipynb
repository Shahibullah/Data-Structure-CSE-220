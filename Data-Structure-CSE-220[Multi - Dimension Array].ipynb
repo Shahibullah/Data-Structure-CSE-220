{
  "nbformat": 4,
  "nbformat_minor": 0,
  "metadata": {
    "colab": {
      "provenance": []
    },
    "kernelspec": {
      "name": "python3",
      "display_name": "Python 3"
    },
    "language_info": {
      "name": "python"
    }
  },
  "cells": [
    {
      "cell_type": "code",
      "execution_count": 15,
      "metadata": {
        "colab": {
          "base_uri": "https://localhost:8080/"
        },
        "id": "9B4IlBUG7S29",
        "outputId": "8c68cc90-7bbf-4684-bf47-ad568240f2e1"
      },
      "outputs": [
        {
          "output_type": "stream",
          "name": "stdout",
          "text": [
            "[ 4 17  6 27  2]\n"
          ]
        }
      ],
      "source": [
        "#Task 01: Merge Lineup\n",
        "import numpy as np\n",
        "def mergeLineup(pokemon_1,pokemon_2):\n",
        "  sum_list = np.zeros(len(pokemon_1),dtype = int)\n",
        "  lenth = (len(pokemon_1))\n",
        "  s = 0\n",
        "  e = lenth -1\n",
        "  for i in range(lenth):\n",
        "    if pokemon_1[i] == None :\n",
        "      pokemon_1[i]= 0\n",
        "    if pokemon_2[i] == None :\n",
        "      pokemon_2[i]= 0\n",
        "  while s < lenth :\n",
        "    sum_list[s]  = pokemon_1[s] + pokemon_2[e]\n",
        "    s += 1\n",
        "    e -= 1\n",
        "  return sum_list\n",
        "\n",
        "pokemon_1 = np.array([4, 5, -1, None, None])\n",
        "pokemon_2 = np.array([2, 27, 7, 12, None])\n",
        "print(mergeLineup(pokemon_1, pokemon_2))\n"
      ]
    },
    {
      "cell_type": "code",
      "source": [
        "# Task 02: Discard Cards\n",
        "import numpy as np\n",
        "\n",
        "def discardCards(cards,t):\n",
        "  print(cards)\n",
        "\n",
        "  new_cards = np.zeros(len(cards),dtype=int)\n",
        "\n",
        "\n",
        "  flg = False\n",
        "  for i in range(len(cards)):\n",
        "    if cards[i] == t and flg == False:\n",
        "      new_cards[i] = 0\n",
        "      flg = True\n",
        "\n",
        "    elif cards[i] == t and flg == True:\n",
        "      new_cards[i] = t\n",
        "      flg = False\n",
        "\n",
        "\n",
        "    else:\n",
        "      new_cards[i] = cards[i]\n",
        "\n",
        "  # print(new_cards)\n",
        "  temp = None\n",
        "  for i in range (len(new_cards)):\n",
        "    for i in range (len(new_cards)-1):\n",
        "      if new_cards[i] == 0:\n",
        "        temp = new_cards[i]\n",
        "        new_cards[i] = new_cards[i+1]\n",
        "        new_cards[i+1] = temp\n",
        "  return new_cards\n",
        "cards = np.array([5,9,3,11,6,3,3,3,3,3,4,0,0])\n",
        "print(discardCards(cards, t = 3))"
      ],
      "metadata": {
        "id": "1saX0lEsANQR",
        "colab": {
          "base_uri": "https://localhost:8080/"
        },
        "outputId": "fd4c5b07-6d4b-44b3-c609-77b5194bbe06"
      },
      "execution_count": null,
      "outputs": [
        {
          "output_type": "stream",
          "name": "stdout",
          "text": [
            "[ 5  9  3 11  6  3  3  3  3  3  4  0  0]\n",
            "[ 5  9 11  6  3  3  3  4  0  0  0  0  0]\n"
          ]
        }
      ]
    },
    {
      "cell_type": "code",
      "source": [
        "#Task 03: Decryption Process\n",
        "def decrypt_matrix(matrix):\n",
        "\n",
        "  r = len(matrix)\n",
        "  c = len(matrix[0])\n",
        "\n",
        "  column_sum = np.zeros(c,dtype = int)\n",
        "  for column in range (c):\n",
        "    sum = 0\n",
        "    for row in range (r):\n",
        "      sum += matrix[row][column]\n",
        "    column_sum[column] = sum\n",
        "\n",
        "  result_array = np.zeros(len(column_sum)-1,dtype = int)\n",
        "  for i in range (len(result_array)-1):\n",
        "    result_array[i]   =  column_sum[i+1] - column_sum[i]\n",
        "    result_array[i+1] =  column_sum[i+2] -  column_sum[i+1]\n",
        "\n",
        "  return (result_array)\n",
        "matrix = np.array([\n",
        "[1, 3, 1],\n",
        "[6, 4, 2],\n",
        "[5, 1, 7],\n",
        "[9, 3, 3],\n",
        "[8, 5, 4]\n",
        "  ])\n",
        "returned_array=decrypt_matrix(matrix)\n",
        "print(returned_array)"
      ],
      "metadata": {
        "colab": {
          "base_uri": "https://localhost:8080/"
        },
        "id": "tSDMzF9c5Val",
        "outputId": "47c4185e-7ab2-45e2-b15f-b73dc53e9fd7"
      },
      "execution_count": null,
      "outputs": [
        {
          "output_type": "stream",
          "name": "stdout",
          "text": [
            "[29 16 17]\n",
            "[-13   1]\n"
          ]
        }
      ]
    },
    {
      "cell_type": "code",
      "source": [
        "# Task 04: Zigzag Walk\n",
        "import numpy as np\n",
        "def walk_zigzag(floor):\n",
        "  flg = True\n",
        "  lenth_of_row = len(floor)\n",
        "  our_row = \"\"\n",
        "  if (lenth_of_row % 2 == 0 ):\n",
        "    our_row =  \"EVEN\"\n",
        "  if (lenth_of_row % 2 != 0 ):\n",
        "    our_row =  \"ODD\"\n",
        "  for i in range (len(floor[0])):\n",
        "    if flg == True :\n",
        "      for j in range(0,len(floor),2):\n",
        "        print(floor[j][i],end=\" \")\n",
        "      flg = False\n",
        "      print()\n",
        "    elif our_row == \"ODD\" and flg == False:\n",
        "      for c in range (-2,-len(floor)-1,-2):\n",
        "        print(floor[c][i],end=\" \")\n",
        "      flg = True\n",
        "      print()\n",
        "    elif our_row == \"EVEN\" and flg == False:\n",
        "      for c in range (-1,-len(floor)-1,-2):\n",
        "        print(floor[c][i],end=\" \")\n",
        "      flg = True\n",
        "      print()\n",
        "floor = np.array([[ '3' , '8' , '4' , '6' , '1'],\n",
        "                    ['7' , '2' , '1' , '9' , '3'],\n",
        "                    ['9' , '0' , '7' , '5' , '8'],\n",
        "                    ['2' , '1' , '3' , '4' , '0'],\n",
        "                    ['1' , '4' , '2' , '8' , '6'],\n",
        "                    ['6' , '7' , '8' ,'9'  , '1']])\n",
        "# print_matrix(floor)\n",
        "print('Walking Sequence:')\n",
        "walk_zigzag(floor)\n",
        "\n",
        "#This should print\n",
        "#3 9 1\n",
        "#7 1 2\n",
        "#4 7 2\n",
        "#9 4 9\n",
        "#1 8 6"
      ],
      "metadata": {
        "colab": {
          "base_uri": "https://localhost:8080/"
        },
        "id": "w3fI5S17PrDv",
        "outputId": "523b8f58-8b07-4107-b070-98f681475b7a"
      },
      "execution_count": null,
      "outputs": [
        {
          "output_type": "stream",
          "name": "stdout",
          "text": [
            "Walking Sequence:\n",
            "3 9 1 \n",
            "7 1 2 \n",
            "4 7 2 \n",
            "9 4 9 \n",
            "1 8 6 \n"
          ]
        }
      ]
    },
    {
      "cell_type": "code",
      "source": [
        "# Task 05: Row Rotation Policy of BRACU Classroom\n",
        "import numpy as np\n",
        "def row_rotation(exam_week, seat_status):\n",
        "    exam_week = exam_week % len(seat_status)\n",
        "    print(exam_week)\n",
        "    for s in range(exam_week - 1):\n",
        "\n",
        "        temp = [None] * len(seat_status[0])\n",
        "        for j in range(len(seat_status[0])):\n",
        "            temp[j] = seat_status[len(seat_status) - 1][j]\n",
        "\n",
        "        for i in range(len(seat_status) - 1, 0, -1):\n",
        "            for j in range(len(seat_status[i])):\n",
        "                seat_status[i][j] = seat_status[i - 1][j]\n",
        "\n",
        "\n",
        "        for j in range(len(temp)):\n",
        "            seat_status[0][j] = temp[j]\n",
        "\n",
        "    print(\"Seat status after rotations:\")\n",
        "    print(seat_status)\n",
        "\n",
        "\n",
        "    for i in range(len(seat_status)):\n",
        "        if \"AA\" in seat_status[i]:\n",
        "            return i +1\n",
        "\n",
        "\n",
        "seat_status = np.array([\n",
        "    ['A', 'B', 'C', 'D', 'E'],\n",
        "    ['F', 'G', 'H', 'I', 'J'],\n",
        "    ['K', 'L', 'M', 'N', 'O'],\n",
        "    ['P', 'Q', 'R', 'S', 'T'],\n",
        "    ['U', 'V', 'W', 'X', 'Y'],\n",
        "    ['ZZ', 'AA', 'BB', 'CC', 'DD']\n",
        "])\n",
        "exam_week = 3\n",
        "row_number = row_rotation(exam_week, seat_status)\n",
        "print(f'Your friend AA will be on row {row_number}')\n"
      ],
      "metadata": {
        "colab": {
          "base_uri": "https://localhost:8080/"
        },
        "id": "VDanW4pojTFZ",
        "outputId": "603d1a9d-c62a-4ea7-d7db-a118c1dd1519"
      },
      "execution_count": 16,
      "outputs": [
        {
          "output_type": "stream",
          "name": "stdout",
          "text": [
            "3\n",
            "Seat status after rotations:\n",
            "[['U' 'V' 'W' 'X' 'Y']\n",
            " ['ZZ' 'AA' 'BB' 'CC' 'DD']\n",
            " ['A' 'B' 'C' 'D' 'E']\n",
            " ['F' 'G' 'H' 'I' 'J']\n",
            " ['K' 'L' 'M' 'N' 'O']\n",
            " ['P' 'Q' 'R' 'S' 'T']]\n",
            "Your friend AA will be on row 2\n"
          ]
        }
      ]
    },
    {
      "cell_type": "code",
      "source": [
        "#Task 06: Matrix Compression\n",
        "import numpy as np\n",
        "def compress_matrix(matrix):\n",
        "\n",
        "  new_matrix_column = int(len(matrix[0]) / 2)\n",
        "  new_matrix_row = int(len(matrix) / 2)\n",
        "  number_of_total_elements = len(matrix) * len(matrix[0])\n",
        "  new_array = np.zeros(int(number_of_total_elements / 4), dtype=object)\n",
        "  blank_matrix = new_array.reshape(new_matrix_row, new_matrix_column)\n",
        "  sum1 = 0\n",
        "  for r1 in range(new_matrix_row):\n",
        "      for c1 in range (new_matrix_column):\n",
        "          sum1 += matrix[r1][c1]\n",
        "          blank_matrix[0][0] = sum1\n",
        "  sum2 = 0\n",
        "  for r2 in range(new_matrix_row):\n",
        "      for c2 in range (new_matrix_column, new_matrix_column*2):\n",
        "          sum2 += matrix[r2][c2]\n",
        "          blank_matrix[0][1] = sum2\n",
        "  sum3 = 0\n",
        "  for r3 in range(new_matrix_row,new_matrix_row*2):\n",
        "      for c3 in range (new_matrix_column):\n",
        "          sum3 += matrix[r3][c3]\n",
        "          blank_matrix[1][0] = sum3\n",
        "  sum4 = 0\n",
        "  for r4 in range(new_matrix_row,new_matrix_row*2):\n",
        "      for c4 in range (new_matrix_column, new_matrix_column*2):\n",
        "          sum4 += matrix[r4][c4]\n",
        "          blank_matrix[1][1] = sum4\n",
        "\n",
        "  return (blank_matrix)\n",
        "matrix=np.array([[1,2,3,4],\n",
        "                 [5,6,7,8],\n",
        "                 [1,3,5,2],\n",
        "                 [-2,0,6,-3]\n",
        "                 ])\n",
        "\n",
        "returned_array=compress_matrix(matrix)\n",
        "print(returned_array)\n",
        "  #   [ 1,2,   3, 4],\n",
        "  #   [ 5,6,   7, 8],\n",
        "  #   [ 1,3,   5, 2],\n",
        "  #   [-2,0,   6,-3]\n",
        "# result\n",
        "# [14 22]\n",
        "# [2 10 ]"
      ],
      "metadata": {
        "colab": {
          "base_uri": "https://localhost:8080/"
        },
        "id": "eaQ35L9Ixi4j",
        "outputId": "d07a4ee0-0d7f-4b86-8462-4d879d03d167"
      },
      "execution_count": 18,
      "outputs": [
        {
          "output_type": "stream",
          "name": "stdout",
          "text": [
            "[[14 22]\n",
            " [2 10]]\n"
          ]
        }
      ]
    },
    {
      "cell_type": "code",
      "source": [
        "#Task 07: Game Arena\n",
        "import numpy as np\n",
        "def play_game(arena):\n",
        "  sum_points = 0\n",
        "  rows = len(arena)\n",
        "  cols = len(arena[0])\n",
        "  for i in range(rows):\n",
        "      for j in range(cols):\n",
        "          if arena[i][j] % 50 == 0 and arena[i][j] != 0 :\n",
        "              # Right cell\n",
        "              if (j + 1 < cols) and arena[i][j + 1] == 2:\n",
        "                  sum_points += 2\n",
        "              # Bottom cell\n",
        "              if i + 1 < rows and arena[i + 1][j] == 2:\n",
        "                  sum_points += 2\n",
        "              # Left cell\n",
        "              if j - 1 >= 0 and arena[i][j - 1] == 2:\n",
        "                  sum_points += 2\n",
        "              # Top cell\n",
        "              if i - 1 >= 0 and arena[i - 1][j] == 2:\n",
        "                  sum_points += 2\n",
        "  if sum_points >= 10 :\n",
        "    return f'Points Gained: {sum_points}. Your team has survived the game.'\n",
        "  else:\n",
        "    return f'Points Gained: {sum_points}. Your team is out.'\n",
        "arena=np.array([[0,2,2,0],\n",
        "                [50,1,2,0],\n",
        "                [2,2,2,0],\n",
        "                [1,100,2,0]\n",
        "                ])\n",
        "\n",
        "result = play_game(arena)\n",
        "print(result)\n"
      ],
      "metadata": {
        "colab": {
          "base_uri": "https://localhost:8080/"
        },
        "id": "8vCxvQOAW14e",
        "outputId": "6f92fff0-ab8b-47fa-c7c3-6c19bf86af39"
      },
      "execution_count": 13,
      "outputs": [
        {
          "output_type": "stream",
          "name": "stdout",
          "text": [
            "Points Gained: 6. Your team is out.\n"
          ]
        }
      ]
    },
    {
      "cell_type": "code",
      "source": [
        "#Task 07: Game Arena\n",
        "import numpy as np\n",
        "def play_game(arena):\n",
        "  sum  = 0\n",
        "  for r in range (len(arena)):\n",
        "    for c in range(len(arena[0])):\n",
        "      if arena[r][c] % 50 == 0 and arena[r][c] != 0 :# c = 0,1,2,3\n",
        "        #Right Handle\n",
        "        if c < (len(arena[0])-1):# c = 0,1,2\n",
        "          if arena[r][c+1] == 2:\n",
        "            sum += 2\n",
        "        #Left Handle\n",
        "        if c > 0 :\n",
        "          if arena[r][c-1] == 2:\n",
        "            sum += 2\n",
        "        #Down Handle\n",
        "        if r < (len(arena) - 1) :#r = 0,1,2\n",
        "          if arena[r+1][c] == 2:\n",
        "            sum += 2\n",
        "        #Up Handle\n",
        "        if r > 0:\n",
        "          if arena[r-1][c] == 2 :\n",
        "            sum += 2\n",
        "  if sum >= 10 :\n",
        "    return f'Points Gained: {sum}. Your team has survived the game.'\n",
        "  else:\n",
        "    return f'Points Gained: {sum}. Your team is out.'\n",
        "\n",
        "\n",
        "arena=np.array([[0,2,2,0,2],\n",
        "                [1,50,2,1,100],\n",
        "                [2,2,2,0,2],\n",
        "                [0,200,2,0,0]\n",
        "                ])\n",
        "result = play_game(arena)\n",
        "print(result)\n"
      ],
      "metadata": {
        "colab": {
          "base_uri": "https://localhost:8080/"
        },
        "id": "f4xxpxwecY0A",
        "outputId": "dbe5b9ae-55f0-4b2c-ed16-160ebb85be43"
      },
      "execution_count": 14,
      "outputs": [
        {
          "output_type": "stream",
          "name": "stdout",
          "text": [
            "Points Gained: 14. Your team has survived the game.\n"
          ]
        }
      ]
    }
  ]
}